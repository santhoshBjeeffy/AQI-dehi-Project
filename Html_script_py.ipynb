{
  "nbformat": 4,
  "nbformat_minor": 0,
  "metadata": {
    "colab": {
      "name": "Html_script.py",
      "provenance": [],
      "include_colab_link": true
    },
    "kernelspec": {
      "name": "python3",
      "display_name": "Python 3"
    },
    "accelerator": "GPU"
  },
  "cells": [
    {
      "cell_type": "markdown",
      "metadata": {
        "id": "view-in-github",
        "colab_type": "text"
      },
      "source": [
        "<a href=\"https://colab.research.google.com/github/santhoshBjeeffy/AQI-dehi-Project/blob/master/Html_script_py.ipynb\" target=\"_parent\"><img src=\"https://colab.research.google.com/assets/colab-badge.svg\" alt=\"Open In Colab\"/></a>"
      ]
    },
    {
      "cell_type": "code",
      "metadata": {
        "id": "vgGzajS8KTuo",
        "colab_type": "code",
        "colab": {}
      },
      "source": [
        "import os\n",
        "import time\n",
        "import requests\n",
        "import sys"
      ],
      "execution_count": 0,
      "outputs": []
    },
    {
      "cell_type": "code",
      "metadata": {
        "id": "-ikemCTdLHbc",
        "colab_type": "code",
        "colab": {}
      },
      "source": [
        "def retrieve_html():\n",
        "  for year in range(2013,2019):\n",
        "    for month in range(1,13):\n",
        "      if(month<10):\n",
        "        url='http://en.tutiempo.net/climate/0{}-{}/ws-421820.html'.format(month,year)\n",
        "\n",
        "      else:\n",
        "        url='http://en.tutiempo.net/climate/{}-{}/ws-421820.html'.format(month,year)\n",
        "\n",
        "\n",
        "      texts=requests.get(url)\n",
        "      text_utf=texts.text.encode('utf-8')\n",
        "\n",
        "      if not os.path.exists(\"Data/Html_Data/{}\".format(year)):\n",
        "        os.makedirs(\"Data/Html_Data/{}\".format(year))\n",
        "      with open(\"Data/Html_Data/{}/{}.html\".format(year,month),\"wb\") as output:\n",
        "        output.write(text_utf)\n",
        "\n",
        "    sys.stdout.flush()"
      ],
      "execution_count": 0,
      "outputs": []
    },
    {
      "cell_type": "markdown",
      "metadata": {
        "id": "e_g3-U6lUEMT",
        "colab_type": "text"
      },
      "source": [
        "# New Section"
      ]
    },
    {
      "cell_type": "code",
      "metadata": {
        "id": "zKAzpF5sOYbS",
        "colab_type": "code",
        "outputId": "cd2f4988-f7d5-43fb-df2a-d52978b8dc1f",
        "colab": {
          "base_uri": "https://localhost:8080/",
          "height": 33
        }
      },
      "source": [
        "if __name__==\"__main__\":\n",
        "  start_time=time.time()\n",
        "  retrieve_html()\n",
        "  stop_time=time.time()\n",
        "  print(\"Time taken {} \".format(stop_time-start_time))"
      ],
      "execution_count": 0,
      "outputs": [
        {
          "output_type": "stream",
          "text": [
            "Time taken 84.51337766647339 \n"
          ],
          "name": "stdout"
        }
      ]
    },
    {
      "cell_type": "code",
      "metadata": {
        "id": "7oF6klpJPkGV",
        "colab_type": "code",
        "colab": {}
      },
      "source": [
        ""
      ],
      "execution_count": 0,
      "outputs": []
    }
  ]
}